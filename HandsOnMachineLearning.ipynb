{
  "nbformat": 4,
  "nbformat_minor": 0,
  "metadata": {
    "colab": {
      "name": "HandsOnMachineLearning.ipynb",
      "provenance": [],
      "authorship_tag": "ABX9TyMfSya/6ZYSXCloWhbNJ4h4",
      "include_colab_link": true
    },
    "kernelspec": {
      "name": "python3",
      "display_name": "Python 3"
    }
  },
  "cells": [
    {
      "cell_type": "markdown",
      "metadata": {
        "id": "view-in-github",
        "colab_type": "text"
      },
      "source": [
        "<a href=\"https://colab.research.google.com/github/yuichielectric/AppliedMath/blob/master/HandsOnMachineLearning.ipynb\" target=\"_parent\"><img src=\"https://colab.research.google.com/assets/colab-badge.svg\" alt=\"Open In Colab\"/></a>"
      ]
    },
    {
      "cell_type": "markdown",
      "metadata": {
        "id": "lP01yLgDAuZB",
        "colab_type": "text"
      },
      "source": [
        "# Chapter 1. The Machine Learning Landscape\n",
        "\n",
        "## Exercises\n",
        "\n",
        "### 1. How would you define Machine Learning?\n",
        "\n",
        "Machine learning is a technique for learning an algorithm from data about a task, rather than writing an algorithm by human.\n",
        "\n",
        "### 2. Can you name four types of problems where is shines?\n",
        "\n",
        " - Problems for which existing solutions require a lot of fine-tuning or long lists of rules\n",
        " - Complex problems for which using a traditional approach yields no good solution\n",
        " - Fluctuating environments\n",
        " - Getting insights about complex problems and large amounts of data\n",
        "\n",
        "### 3. What is a labeled training set?\n",
        "\n",
        "A labeled training set is a set of example data includes the desired solutions.\n",
        "\n",
        "### 4. What are the two most common supervised tasks?\n",
        "\n",
        "Spam filters.\n",
        "\n",
        "### 5. Can you name four common unsupervised tasks?\n",
        "\n",
        " - Clustering\n",
        " - Anomaly detection and novelty detection\n",
        " - Visualization and dimensionality reduction\n",
        "   - The goal of dimensionality reduction is to simplify the data without losing too much information. One way to do this is to merge several correlated features into one.\n",
        " - Association rule learning\n",
        "    - The goal of association rule learning is to dig into large amounts of data and discover interesting relations between attributes.\n",
        "\n",
        "### 6. What type of Machine Learning algorithm would you use to allow a robot to walk in various unknown terrains?\n",
        "\n",
        "Reinforcement learning\n",
        "\n",
        "### 7. What type of algorithm would you use to segment your customers into multiple groups?\n",
        "\n",
        "Clustering\n",
        "\n",
        "### 8. Would you frame the problem of spam detection as a supervised learning problem or an unsupervised learning problem?\n",
        "\n",
        "Supervised learning.\n",
        "\n",
        "### 9. What is an online learning system?\n",
        "\n",
        "An online learning system is a system that learns training data incrementaly instead of learning all data at once.\n",
        "\n",
        "### 10. What is out-of-core learning?\n",
        "\n",
        "Out-of-core learning is used to train systems on huge datasets that cannot fit in one machine's main memory.\n",
        "\n",
        "### 11. What type of learning algorithm relies on a similarity measure to make predictions?\n",
        "\n",
        "### 12. What is the difference between a model parameter and a learning algorithm's hyperparameter?\n",
        "\n",
        "A model parameters are optimized as a result of learning the model, and the hyperparameters are parameters that determine the architecture for learning the model.\n",
        "\n",
        "### 13. What do model-based learning algorithms search for? What is the most common strategy they use to succeed? How do they make predictions?\n",
        "\n",
        "### 14. Can you name four of the main challenges in Machine Learning?\n",
        "\n",
        "### 15. If your model performs great on the training data but generalizes poorly to new instances, what is happening? Can you name three possible solutions?\n",
        "\n",
        "The model is overfitting to the training data. To solve this issue, we can use\n",
        "\n",
        " - regularization\n",
        " - collecting more data\n",
        " - pick better architecture\n",
        "\n",
        "### 16. What is a test set, and why would you want to use it?\n",
        "\n",
        "\n",
        "### 17. What is the purpose of a validation set?\n",
        "\n",
        "\n",
        "### 18. What is the train-dev set, when do you need it, and how do you use it?\n",
        "\n",
        "### 19. What can go wrong if you tune hyperparameters using the test set?\n",
        "\n",
        " "
      ]
    },
    {
      "cell_type": "markdown",
      "metadata": {
        "id": "KW4jtkJC-_Nr",
        "colab_type": "text"
      },
      "source": [
        ""
      ]
    }
  ]
}